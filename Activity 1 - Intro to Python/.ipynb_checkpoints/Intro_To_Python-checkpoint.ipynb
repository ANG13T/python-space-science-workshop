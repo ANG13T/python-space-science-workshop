{
 "cells": [
  {
   "cell_type": "markdown",
   "id": "f7c7bafe-793a-44e5-b9fd-9ce1902749f2",
   "metadata": {},
   "source": [
    "## Python Overview 🐍\n",
    "\n",
    "Python is a high-level, versatile programming language known for its simpe syntax. It is a great way to get started programming due to its large community and wide breadth of real-world applications including data analysis, artificial intelligence, automation, and space!"
   ]
  },
  {
   "cell_type": "markdown",
   "id": "68d1ba70-95f4-42cf-89c8-9ab42082ff13",
   "metadata": {},
   "source": [
    "## Variables 📦\n",
    "\n",
    "A **variable** acts as container within a program, capable of storing various types of information such as numbers, text, and more. "
   ]
  },
  {
   "cell_type": "code",
   "execution_count": 4,
   "id": "8b50f559-9397-4338-ba2b-d9b4f02c12ce",
   "metadata": {},
   "outputs": [],
   "source": [
    "favorite_number = 30\n",
    "a = 1\n",
    "b = 2"
   ]
  },
  {
   "cell_type": "code",
   "execution_count": 5,
   "id": "a94b9357-f69b-4240-ad0a-0136e52db150",
   "metadata": {},
   "outputs": [],
   "source": [
    "c = a + b"
   ]
  },
  {
   "cell_type": "markdown",
   "id": "4a568106-03d5-48a8-aa3d-8665b4e3db1f",
   "metadata": {},
   "source": [
    "## Print Statements"
   ]
  },
  {
   "cell_type": "markdown",
   "id": "b3f09a77-ae23-4112-94e9-a630698acec9",
   "metadata": {},
   "source": [
    "A **print** statement in Python is like a command that tells the computer to display or show something on the screen.\n",
    "We can use print statements to print any kind of text onto a screen including numbers, characters, and more!"
   ]
  },
  {
   "cell_type": "code",
   "execution_count": 6,
   "id": "ae9d0074-da64-49e1-9a20-6558d045fd75",
   "metadata": {},
   "outputs": [
    {
     "name": "stdout",
     "output_type": "stream",
     "text": [
      "Hello World!\n",
      "3\n"
     ]
    }
   ],
   "source": [
    "print(\"Hello World!\")\n",
    "\n",
    "print(c)"
   ]
  },
  {
   "cell_type": "markdown",
   "id": "5ef68e53-45b1-4281-b05f-3e08b9c54628",
   "metadata": {},
   "source": [
    "### Exercise: Your First Variable ✨\n",
    "\n",
    "#### Objective: \n",
    "- Assign a variable called `random_number` to a number of your choice\n",
    "- Print your `random_number` variable using the `print` command"
   ]
  },
  {
   "cell_type": "code",
   "execution_count": null,
   "id": "3d034d50-c7a6-434d-b825-755c224c8c79",
   "metadata": {},
   "outputs": [],
   "source": []
  },
  {
   "cell_type": "markdown",
   "id": "10b1d0cb-910a-4779-94bc-0445a52f54ac",
   "metadata": {},
   "source": [
    "## Data Types ⚙\n",
    "Data types are analogous to categories that tell the computer how to understand and work with different kinds of information.\n",
    "Data Types in Python include:\n",
    "- Integer (`int`): whole numbers without any decimal points.\n",
    "`33, 102, 22, etc`\n",
    "\n",
    "- Float (`float`): numbers with decimal points\n",
    "`3.14, 22.0, -19,4, etc`\n",
    "\n",
    "- String (`str`): text and characters\n",
    "`\"cat\", \"dog\", \"A\", etc`\n",
    "\n",
    "- Boolean (`bool`): True or False values\n",
    "`True, False`\n",
    "\n",
    "- List (`list`): ordered collection of items\n",
    "`[1, 2, 3], [\"apple\", \"orange\", \"kiwi\"], etc`\n",
    "\n",
    "- Tuple (`tuple`): lists but immutable (cannot be changed)\n",
    "`(10, 20), ('Alice', 'Bob'), (9, 'apple', 3.14), etc`\n",
    "\n",
    "- Dictionary (`dict`): collection of key-value pairs\n",
    "`{'apple': 1.99, 'banana': 0.99, 'kiwi': 1.49}`\n",
    "\n",
    "- Set (`set`): an unordered collection of unique items\n",
    "`{'a', 'b', 'c', 'd'}, {1, 'apple', True}, etc`\n",
    "\n",
    "You can assign all the above data types to variables. Shown below:"
   ]
  },
  {
   "cell_type": "code",
   "execution_count": 7,
   "id": "6bd94ce7-e61d-4dc3-a046-b49ae45c2bec",
   "metadata": {},
   "outputs": [],
   "source": [
    "even = 4\n",
    "pi = 3.14\n",
    "name = \"Bob\"\n",
    "is_true = True\n",
    "names = [\"Alice\", \"Bob\", \"Charlie\"]\n",
    "prices = (1.45, 10.32, 23.3)\n",
    "attendance = {\"Alice\": True, \"Bob\": False, \"Charlie\": True}"
   ]
  },
  {
   "cell_type": "markdown",
   "id": "dc613200-2288-4923-a22a-f2de56609095",
   "metadata": {},
   "source": [
    "## Basic Operations ➕\n",
    "\n",
    "Python allows you to conduct basic mathematical operations. These include:\n",
    "- Addition (+): `3 + 4`\n",
    "- Subtraction (-): `5 - 2`\n",
    "- Multiplication (*): `3 * 8`\n",
    "- Division (/): `24 / 4`\n",
    "- Modulus aka \"Remainder\" (%): `5 % 2`"
   ]
  },
  {
   "cell_type": "code",
   "execution_count": 8,
   "id": "1384960c-b518-4adb-bbc4-ad8be34492d7",
   "metadata": {},
   "outputs": [],
   "source": [
    "add = 3 + 4\n",
    "subtract = 5 - 2\n",
    "multiply = 3 * 8\n",
    "divide = 24 / 4\n",
    "remainder = 5 % 2"
   ]
  },
  {
   "cell_type": "code",
   "execution_count": 9,
   "id": "41947d48-d621-471b-b512-7effd97ec7a6",
   "metadata": {},
   "outputs": [
    {
     "name": "stdout",
     "output_type": "stream",
     "text": [
      "Addition 7\n",
      "Subtraction 3\n",
      "Multiplication 24\n",
      "Division 6.0\n",
      "Modulus 1\n"
     ]
    }
   ],
   "source": [
    "print(\"Addition\", add)\n",
    "print(\"Subtraction\", subtract)\n",
    "print(\"Multiplication\", multiply)\n",
    "print(\"Division\", divide)\n",
    "print(\"Modulus\", remainder)"
   ]
  },
  {
   "cell_type": "markdown",
   "id": "765845ae-ac33-4702-943e-0fbd4e0bbbbc",
   "metadata": {},
   "source": [
    "You can also perform operations on data types that are not numbers such as strings.\n",
    "For example:"
   ]
  },
  {
   "cell_type": "code",
   "execution_count": 11,
   "id": "68229b9d-ef77-43fa-a672-8072dec652ab",
   "metadata": {},
   "outputs": [
    {
     "name": "stdout",
     "output_type": "stream",
     "text": [
      "John Doe\n"
     ]
    }
   ],
   "source": [
    "first_name = \"John\"\n",
    "last_name = \"Doe\"\n",
    "full_name = first_name + \" \" + last_name\n",
    "print(full_name)"
   ]
  },
  {
   "cell_type": "markdown",
   "id": "7bebbb89-8f6f-4937-a6a5-2d3fba3cd591",
   "metadata": {},
   "source": [
    "### Exercise: Space Resource Calculations 🧮\n",
    "You are a mission planner for an upcoming spacecraft launch. You are tasked with computing the following values.\n",
    "\n",
    "#### Objective: \n",
    "- Calculate and print the total distance traveled\n",
    "- Calculate and print the total fuel consumed\n",
    "- Calculate and print the total time to destination\n",
    "- Create a variable called `full_name` and print out the full name of the astronaut \n",
    "\n",
    "#### NOTE: you can calculate all the values above using the hard-coded variables below.\n",
    "#### HINT: listed below are all the equations you need for this problem\n",
    "```\n",
    "Distance = Speed x Time\n",
    "Fuel Consumption = Distance / Fuel Efficiency\n",
    "Time to Destination = Distance / Speed\n",
    "```"
   ]
  },
  {
   "cell_type": "code",
   "execution_count": 51,
   "id": "9a48db26-0c3c-4db7-890f-a7edf7f94c3b",
   "metadata": {},
   "outputs": [],
   "source": [
    "travel_time = 10  # hours\n",
    "speed = 5000      # kilometers per hour\n",
    "fuel_efficiency = 10  # kilometers per liter\n",
    "first_name = \"Sally\"\n",
    "last_name = \"Ride\""
   ]
  },
  {
   "cell_type": "markdown",
   "id": "e29f5a77-0d72-4c98-bd86-fcff60d89a5a",
   "metadata": {},
   "source": [
    "## Typecasting 🔄 \n",
    "Typecasting, also known as type conversion, is the process of converting a value from one data type to another."
   ]
  },
  {
   "cell_type": "code",
   "execution_count": 13,
   "id": "e0e17be4-f318-4958-873a-a51f27e0796c",
   "metadata": {},
   "outputs": [
    {
     "ename": "TypeError",
     "evalue": "can only concatenate str (not \"int\") to str",
     "output_type": "error",
     "traceback": [
      "\u001b[0;31m---------------------------------------------------------------------------\u001b[0m",
      "\u001b[0;31mTypeError\u001b[0m                                 Traceback (most recent call last)",
      "Cell \u001b[0;32mIn[13], line 2\u001b[0m\n\u001b[1;32m      1\u001b[0m num \u001b[38;5;241m=\u001b[39m \u001b[38;5;241m10\u001b[39m\n\u001b[0;32m----> 2\u001b[0m result \u001b[38;5;241m=\u001b[39m \u001b[38;5;124;43m\"\u001b[39;49m\u001b[38;5;124;43mThe number is: \u001b[39;49m\u001b[38;5;124;43m\"\u001b[39;49m\u001b[43m \u001b[49m\u001b[38;5;241;43m+\u001b[39;49m\u001b[43m \u001b[49m\u001b[43mnum\u001b[49m  \u001b[38;5;66;03m# This will cause a TypeError!!!\u001b[39;00m\n",
      "\u001b[0;31mTypeError\u001b[0m: can only concatenate str (not \"int\") to str"
     ]
    }
   ],
   "source": [
    "num = 10\n",
    "result = \"The number is: \" + num  # This will cause a TypeError!!!"
   ]
  },
  {
   "cell_type": "code",
   "execution_count": 16,
   "id": "4de8025b-cfa8-44cd-9bd7-b66b9974f8d1",
   "metadata": {},
   "outputs": [
    {
     "name": "stdout",
     "output_type": "stream",
     "text": [
      "The number is: 10\n"
     ]
    }
   ],
   "source": [
    "num = 10\n",
    "result = \"The number is: \" + str(num)\n",
    "print(result)"
   ]
  },
  {
   "cell_type": "code",
   "execution_count": 18,
   "id": "78dec42e-d187-408b-8c2d-e75dce5455ca",
   "metadata": {},
   "outputs": [
    {
     "name": "stdout",
     "output_type": "stream",
     "text": [
      "20\n",
      "20.0\n"
     ]
    }
   ],
   "source": [
    "num_2 = 20\n",
    "\n",
    "# Convert integer to float\n",
    "num_float = float(num_2)\n",
    "\n",
    "print(num_2)\n",
    "print(num_float)"
   ]
  },
  {
   "cell_type": "code",
   "execution_count": 19,
   "id": "6089d073-9cf5-4dc9-977b-37b905ca6bbd",
   "metadata": {},
   "outputs": [
    {
     "name": "stdout",
     "output_type": "stream",
     "text": [
      "3\n"
     ]
    }
   ],
   "source": [
    "num_float = 3.14\n",
    "\n",
    "# Convert float to integer\n",
    "num_int = int(num_float)\n",
    "\n",
    "print(num_int)  # Output: 3"
   ]
  },
  {
   "cell_type": "code",
   "execution_count": 20,
   "id": "277334db-4872-4d93-a77b-60a784f42065",
   "metadata": {},
   "outputs": [
    {
     "name": "stdout",
     "output_type": "stream",
     "text": [
      "<class 'float'>\n",
      "<class 'int'>\n"
     ]
    }
   ],
   "source": [
    "print(type(num_float)) # # Output: <class 'float'>\n",
    "print(type(num_int)) # # Output: <class 'int'>"
   ]
  },
  {
   "cell_type": "markdown",
   "id": "3da0e04e-fc6b-4b68-b307-bfdb98a6e445",
   "metadata": {},
   "source": [
    "### Exercise: Having Fun with Typecasts ✨\n",
    "\n",
    "#### Objective: \n",
    "- Typecast `fuel_remaining` (float) into an `int`\n",
    "- Typecast `oxygen_levels` (int) into a `float`\n",
    "- Print out the outputs to look like the following:\n",
    "```\n",
    "Fuel Remaining: 33 L\n",
    "Oxygen Levels: 21.0 kPa\n",
    "```"
   ]
  },
  {
   "cell_type": "code",
   "execution_count": 21,
   "id": "52f25e94-e845-4ea2-ab62-e8488df422d7",
   "metadata": {},
   "outputs": [],
   "source": [
    "fuel_remaining = 33.42\n",
    "oxygen_levels = 21"
   ]
  },
  {
   "cell_type": "code",
   "execution_count": null,
   "id": "2e10121d-f30c-4114-81ea-df1b58c194bb",
   "metadata": {},
   "outputs": [],
   "source": []
  },
  {
   "cell_type": "markdown",
   "id": "8d4b42a4-ecbc-4db1-ad70-a072dcbb8b19",
   "metadata": {},
   "source": [
    "## Arrays & Lists 📦\n",
    "Arrays and lists are the fundamental data types within Python that allow us to store a wide range of data values using a single line.\n",
    "Despite their striking similarities, there are a number of nuances that distinguish lists from arrays."
   ]
  },
  {
   "cell_type": "code",
   "execution_count": 22,
   "id": "420b1d09-62c8-41b4-addb-8fe7de917c0f",
   "metadata": {},
   "outputs": [
    {
     "name": "stdout",
     "output_type": "stream",
     "text": [
      "2\n",
      "h\n"
     ]
    }
   ],
   "source": [
    "# Example of Indexing\n",
    "numbers = [2, 4, 6, 8, 10]\n",
    "print(numbers[0])\n",
    "name = \"John\"\n",
    "print(name[2])"
   ]
  },
  {
   "cell_type": "code",
   "execution_count": 23,
   "id": "43e4d1dd-f085-4489-9c89-e473151a5e4d",
   "metadata": {},
   "outputs": [
    {
     "name": "stdout",
     "output_type": "stream",
     "text": [
      "[4, 6]\n"
     ]
    }
   ],
   "source": [
    "# Example of Slicing\n",
    "numbers = [2, 4, 6, 8, 10]\n",
    "sliced_numbers = numbers[1:3]\n",
    "print(sliced_numbers)"
   ]
  },
  {
   "cell_type": "code",
   "execution_count": 25,
   "id": "e89e0942-e5b7-4a71-a198-4f566638303c",
   "metadata": {},
   "outputs": [
    {
     "name": "stdout",
     "output_type": "stream",
     "text": [
      "[2, 4]\n",
      "[2, 4]\n"
     ]
    }
   ],
   "source": [
    "# Example of Slicing using the Shorthand Notation\n",
    "sliced_numbers = numbers[0:2]\n",
    "print(sliced_numbers)\n",
    "sliced_numbers = numbers[:2]\n",
    "print(sliced_numbers)"
   ]
  },
  {
   "cell_type": "code",
   "execution_count": 26,
   "id": "a895802a-7ab4-4f1c-a698-f780b9e94e54",
   "metadata": {},
   "outputs": [
    {
     "name": "stdout",
     "output_type": "stream",
     "text": [
      "[6, 8]\n"
     ]
    }
   ],
   "source": [
    "# Indexing from the Back\n",
    "sliced_numbers = numbers[-3:-1]\n",
    "print(sliced_numbers)"
   ]
  },
  {
   "cell_type": "code",
   "execution_count": 27,
   "id": "5467d304-62fd-4b9c-b721-da14dcaa61b9",
   "metadata": {},
   "outputs": [
    {
     "name": "stdout",
     "output_type": "stream",
     "text": [
      "2 9\n"
     ]
    }
   ],
   "source": [
    "# Example of using 2D Arrays\n",
    "twod_array = [[1, 2, 3],\n",
    "              [4, 5, 6],\n",
    "              [7, 8, 9]]\n",
    "value_1 = twod_array[0][1]\n",
    "value_2 = twod_array[2][2]\n",
    "print(value_1, value_2)"
   ]
  },
  {
   "cell_type": "markdown",
   "id": "804dcdf2-6ae3-4a96-9ba4-3dcca6844451",
   "metadata": {},
   "source": [
    "## Modifying Arrays & Lists 🚜"
   ]
  },
  {
   "cell_type": "code",
   "execution_count": 28,
   "id": "cc4ffcf6-960e-4319-b219-36e5ea6202d8",
   "metadata": {},
   "outputs": [
    {
     "name": "stdout",
     "output_type": "stream",
     "text": [
      "[1, 7, 3, 4, 5]\n"
     ]
    }
   ],
   "source": [
    "# Changing a Value at a Specific Index\n",
    "numbers = [1, 2, 3, 4, 5]\n",
    "numbers[1] = 7\n",
    "print(numbers)"
   ]
  },
  {
   "cell_type": "code",
   "execution_count": 29,
   "id": "ae49597d-7215-4148-9b7f-719e24572040",
   "metadata": {},
   "outputs": [
    {
     "name": "stdout",
     "output_type": "stream",
     "text": [
      "[1, 2, 4, 5]\n"
     ]
    }
   ],
   "source": [
    "# Deleting an Item from an Array\n",
    "numbers = [1, 2, 3, 4, 5]\n",
    "del(numbers[2])\n",
    "print(numbers)"
   ]
  },
  {
   "cell_type": "code",
   "execution_count": 30,
   "id": "690b6384-810c-4dbf-b837-58349cb6306d",
   "metadata": {},
   "outputs": [
    {
     "name": "stdout",
     "output_type": "stream",
     "text": [
      "[1, 2, 3, 4, 5, 6]\n"
     ]
    }
   ],
   "source": [
    "# Appending an Item to the End of an Array\n",
    "numbers = [1, 2, 3, 4, 5]\n",
    "numbers.append(6)\n",
    "print(numbers)"
   ]
  },
  {
   "cell_type": "code",
   "execution_count": 31,
   "id": "82926dfd-325f-4e48-b57f-c51208ebc422",
   "metadata": {},
   "outputs": [
    {
     "name": "stdout",
     "output_type": "stream",
     "text": [
      "[5, 4, 3, 2, 1]\n"
     ]
    }
   ],
   "source": [
    "# Reflecting an Array\n",
    "numbers = [1, 2, 3, 4, 5]\n",
    "reflected = numbers[::-1]\n",
    "print(reflected)"
   ]
  },
  {
   "cell_type": "markdown",
   "id": "5f4d2344-daca-4321-aac3-19009139b00b",
   "metadata": {},
   "source": [
    "### Exercise: Array Manipulation ⚡️\n",
    "\n",
    "#### Objective: \n",
    "Using the `values` array below, run the following steps in order.\n",
    "1. Delete the last item\n",
    "2. Set the second element to the number 8\n",
    "3. Flip the array\n",
    "4. Append the numbers 5 and 9 to the array\n",
    "5. Print out the array\n",
    "\n",
    "#### HINT: the output should be the following:\n",
    "\n",
    "```\n",
    "[4,3,8,1,5,9]\n",
    "```"
   ]
  },
  {
   "cell_type": "code",
   "execution_count": 32,
   "id": "ad88634e-6c7d-4ed5-b418-fa3e0a2b8bc1",
   "metadata": {},
   "outputs": [],
   "source": [
    "values = [1, 2, 3, 4, 5]"
   ]
  },
  {
   "cell_type": "code",
   "execution_count": 53,
   "id": "4e07f000-03b3-4218-ac0e-29e04c43bd96",
   "metadata": {},
   "outputs": [
    {
     "name": "stdout",
     "output_type": "stream",
     "text": [
      "[4, 3, 8, 1, 5, 9]\n"
     ]
    }
   ],
   "source": []
  },
  {
   "cell_type": "markdown",
   "id": "d005e180-ff0e-4f7e-b5eb-3eada69773d3",
   "metadata": {},
   "source": [
    "## Getting User Input 🔎\n",
    "The `input` command in Python allows your program to interactively receive data from the user during runtime.\n",
    "The following code asks the user for their favorite color and then prints it.\n",
    "\n",
    "```\n",
    "fav_color = input(\"What is your favorite color?\")\n",
    "print(\"Favorite Color: \" + fav_color)\n",
    "```"
   ]
  },
  {
   "cell_type": "code",
   "execution_count": 33,
   "id": "7eadd320-e3dd-41b2-9503-784b3853c854",
   "metadata": {},
   "outputs": [
    {
     "name": "stdin",
     "output_type": "stream",
     "text": [
      "What is your favorite color? cherry pink\n"
     ]
    },
    {
     "name": "stdout",
     "output_type": "stream",
     "text": [
      "Favorite Color: cherry pink\n"
     ]
    }
   ],
   "source": [
    "fav_color = input(\"What is your favorite color?\")\n",
    "print(\"Favorite Color: \" + fav_color)"
   ]
  },
  {
   "cell_type": "markdown",
   "id": "226cf575-3bf5-414a-a373-bc55e66fffc4",
   "metadata": {},
   "source": [
    "## Functions ⚙️\n",
    "Functions in Python are blocks of reusable code that perform a specific task. They allow you to break down your program into smaller, manageable parts, making your code easier to understand and maintain."
   ]
  },
  {
   "cell_type": "code",
   "execution_count": 34,
   "id": "4311b12e-a766-4afb-a557-1c937b0800f6",
   "metadata": {},
   "outputs": [
    {
     "name": "stdout",
     "output_type": "stream",
     "text": [
      "Hello, Bob\n",
      "Hello, Alice\n"
     ]
    }
   ],
   "source": [
    "def greet(name):\n",
    "    print(\"Hello,\", name)\n",
    "\n",
    "greet(\"Bob\")\n",
    "greet(\"Alice\")"
   ]
  },
  {
   "cell_type": "code",
   "execution_count": 35,
   "id": "33692561-d334-4d8a-914e-79da83710f45",
   "metadata": {},
   "outputs": [
    {
     "name": "stdout",
     "output_type": "stream",
     "text": [
      "Addition: 8\n"
     ]
    }
   ],
   "source": [
    "def add(a, b):\n",
    "    return a + b\n",
    "\n",
    "result = add(5,3)\n",
    "print(\"Addition: \" + str(result))"
   ]
  },
  {
   "cell_type": "markdown",
   "id": "a133d369-48f4-49d4-93e5-98f905e4398b",
   "metadata": {},
   "source": [
    "## Modules 📦\n",
    "Modules in Python are files that contain Python code. They are used to organize code into reusable units, making it easier to manage and maintain large programs."
   ]
  },
  {
   "cell_type": "code",
   "execution_count": 36,
   "id": "949fa2a8-7b0a-439f-9558-4ad93275c56c",
   "metadata": {},
   "outputs": [],
   "source": [
    "import math"
   ]
  },
  {
   "cell_type": "code",
   "execution_count": 38,
   "id": "e015208e-1d50-4d5d-a020-56dd240f81a6",
   "metadata": {},
   "outputs": [
    {
     "data": {
      "text/plain": [
       "5.0"
      ]
     },
     "execution_count": 38,
     "metadata": {},
     "output_type": "execute_result"
    }
   ],
   "source": [
    "# Example of using dot notation to access a function included within a method\n",
    "math.sqrt(25)"
   ]
  },
  {
   "cell_type": "code",
   "execution_count": 40,
   "id": "7d949c56-a734-4d61-bad8-02cdd7155019",
   "metadata": {},
   "outputs": [
    {
     "name": "stdout",
     "output_type": "stream",
     "text": [
      "25.0\n"
     ]
    }
   ],
   "source": [
    "# Example of importing functions from modules\n",
    "from math import pow\n",
    "\n",
    "print(pow(5, 2))"
   ]
  },
  {
   "cell_type": "code",
   "execution_count": 41,
   "id": "82e80160-b60a-4005-b594-fc7d3c8ef492",
   "metadata": {},
   "outputs": [
    {
     "name": "stdout",
     "output_type": "stream",
     "text": [
      "5.0\n",
      "25.0\n"
     ]
    }
   ],
   "source": [
    "import math as m\n",
    "print(m.sqrt(25))\n",
    "print(m.pow(5, 2))"
   ]
  },
  {
   "cell_type": "markdown",
   "id": "b83d35eb-05e8-40b0-85f1-d67c54410e73",
   "metadata": {},
   "source": [
    "### Exercise: Modular Calculator ➗\n",
    "Write a calculator using the `math` module that contains the following features:\n",
    "\n",
    "#### Objective: \n",
    "- Write a function called `pow` that takes inputs a and b and returns the power\n",
    "- Write a function called `ceiling` that takes input a returns `math.ceil`\n",
    "- Write a function called `floor` that takes input a returns `math.floor`\n",
    "- Write a function called `factorial` that takes input a returns `math.factorial`\n",
    "- Use the variables a and b below as needed for each function"
   ]
  },
  {
   "cell_type": "code",
   "execution_count": 42,
   "id": "8d061ce5-32d6-435a-bb84-d98c2aca4120",
   "metadata": {},
   "outputs": [],
   "source": [
    "a = 4\n",
    "b = 5"
   ]
  },
  {
   "cell_type": "markdown",
   "id": "95e25ab1-6c72-4eec-bf5e-b8947e416c40",
   "metadata": {},
   "source": [
    "## Loops 🔁\n",
    "Loops in Pytohn are used to execute a block of code repeatedly.\n",
    "There are two main types of loops: `for` and `while`.\n",
    "\n",
    "### For Loops\n",
    "For loops are used to iterate over a sequence (e.g., a list, tuple, or string) or an iterable object. They execute a block of code once for each item in the sequence. For instance, this code prints out every item inside the `planets` list"
   ]
  },
  {
   "cell_type": "code",
   "execution_count": 43,
   "id": "1e7836ea-9a85-4349-a554-a9dc06f4a894",
   "metadata": {},
   "outputs": [
    {
     "name": "stdout",
     "output_type": "stream",
     "text": [
      "Earth\n",
      "Mars\n",
      "Venus\n",
      "Mercury\n"
     ]
    }
   ],
   "source": [
    "planets = [\"Earth\", \"Mars\", \"Venus\", \"Mercury\"]\n",
    "for planet in planets:\n",
    "    print(planet)"
   ]
  },
  {
   "cell_type": "markdown",
   "id": "623833bf-79c2-4707-bc34-758ad341be88",
   "metadata": {},
   "source": [
    "### While Loops\n",
    "While loops repeatedly execute a block of code as long as a specified condition is true. They continue iterating until the condition becomes false. For example, the following code operates until the number `i` reaches 5 and then it terminates since the condition `i <= 5` will evaluate to `False`"
   ]
  },
  {
   "cell_type": "code",
   "execution_count": 44,
   "id": "7a47ff53-088d-4249-abbc-42957debcf88",
   "metadata": {},
   "outputs": [
    {
     "name": "stdout",
     "output_type": "stream",
     "text": [
      "1\n",
      "2\n",
      "3\n",
      "4\n",
      "5\n",
      "6\n",
      "7\n",
      "8\n",
      "9\n",
      "10\n"
     ]
    }
   ],
   "source": [
    "i = 1\n",
    "while i <= 10:\n",
    "    print(i)\n",
    "    i += 1"
   ]
  },
  {
   "cell_type": "markdown",
   "id": "cc19e465-96f1-427b-b385-ad1492847221",
   "metadata": {},
   "source": [
    "## Conditionals ❓\n",
    "Conditionals allow you to execute different blocks of code based on whether a condition is true or false.\n",
    "There are three main types of conditional statements `if`, `elif`, and `else`."
   ]
  },
  {
   "cell_type": "code",
   "execution_count": 45,
   "id": "c9fff70f-ffdc-4d2f-9477-957508672444",
   "metadata": {},
   "outputs": [
    {
     "name": "stdout",
     "output_type": "stream",
     "text": [
      "Number is larger than 10!\n",
      "Number is smaller than 10 AND is NOT 2\n"
     ]
    }
   ],
   "source": [
    "# IF STATEMENTS\n",
    "number = 20\n",
    "if number > 10:\n",
    "    print(\"Number is larger than 10!\")\n",
    "\n",
    "# ELIF STATEMENTS\n",
    "number = 0\n",
    "if number > 10:\n",
    "    print(\"Number is larger than 10!\")\n",
    "elif number == 2:\n",
    "    print(\"Number is 2!\")\n",
    "\n",
    "# ELSE STATEMENTS\n",
    "number = 6\n",
    "if number > 10:\n",
    "    print(\"Number is larger than 10!\")\n",
    "elif number == 2:\n",
    "    print(\"Number is 2!\")\n",
    "else:\n",
    "    print(\"Number is smaller than 10 AND is NOT 2\")"
   ]
  },
  {
   "cell_type": "markdown",
   "id": "7411eb3e-14d0-45c0-ad8e-42572d236141",
   "metadata": {},
   "source": [
    "## Control Flow Statements ⏭️\n",
    "These statements change the normal flow of code execution. They include commands like `break`, `continue`, and `pass`, which allow you to exit a loop early, skip certain iterations, or do nothing in a particular case."
   ]
  },
  {
   "cell_type": "code",
   "execution_count": 48,
   "id": "aefce13b-74cf-4772-905e-2681dd0915f0",
   "metadata": {},
   "outputs": [
    {
     "name": "stdout",
     "output_type": "stream",
     "text": [
      "Mercury\n",
      "Venus\n",
      "Earth\n"
     ]
    }
   ],
   "source": [
    "# BREAK STATEMENT\n",
    "for planet in [\"Mercury\", \"Venus\", \"Earth\", \"Mars\", \"Jupiter\"]:\n",
    "    if planet == \"Mars\":\n",
    "        break\n",
    "    print(planet)"
   ]
  },
  {
   "cell_type": "code",
   "execution_count": 49,
   "id": "18755dd2-e81f-4b87-96e6-fd8e2c8efc7d",
   "metadata": {},
   "outputs": [
    {
     "name": "stdout",
     "output_type": "stream",
     "text": [
      "Mercury\n",
      "Venus\n",
      "Mars\n",
      "Jupiter\n"
     ]
    }
   ],
   "source": [
    "# CONTINUE STATEMENT\n",
    "for planet in [\"Mercury\", \"Venus\", \"Earth\", \"Mars\", \"Jupiter\"]:\n",
    "    if planet == \"Earth\":\n",
    "        continue\n",
    "    print(planet)"
   ]
  },
  {
   "cell_type": "code",
   "execution_count": 50,
   "id": "63b87c46-ab96-4016-bcb7-a58c94944c3d",
   "metadata": {},
   "outputs": [
    {
     "name": "stdout",
     "output_type": "stream",
     "text": [
      "Mercury\n",
      "Venus\n",
      "Our Home!\n",
      "Earth\n",
      "Mars\n",
      "Jupiter\n"
     ]
    }
   ],
   "source": [
    "# PASS STATEMENT\n",
    "for planet in [\"Mercury\", \"Venus\", \"Earth\", \"Mars\", \"Jupiter\"]:\n",
    "    if planet == \"Mercury\":\n",
    "        pass\n",
    "    elif planet == \"Earth\":\n",
    "        print(\"Our Home!\")\n",
    "    print(planet)"
   ]
  },
  {
   "cell_type": "markdown",
   "id": "8b91ad01-615c-4028-a11b-9562b37a0a47",
   "metadata": {},
   "source": [
    "### Exercise: Mission Control Flow 📡\n",
    "You are tasked with creating a simple Python program to simulate space mission control operations. The program should incorporate various control flow structures to manage different aspects of the mission.\n",
    "\n",
    "#### Objective: \n",
    "- Initialize a `while` loop that runs when the mission time is less than or equal to the mission duration\n",
    "- Within the `while` loop, decrease the distance to the destination by the distance traveled per hour\n",
    "- Within the `while` loop, decrease the fuel level by the fuel consumption rate\n",
    "- Within the `while` loop, print out the fuel level, mission time, and fuel level\n",
    "- Break out the `while` loop if fuel level OR distance to the destination is less than or equal to 0\n",
    "- Increment the mission duration by one after each time "
   ]
  },
  {
   "cell_type": "code",
   "execution_count": 52,
   "id": "5d9c4be1-b44f-4bf7-a929-e9e6236bcdc7",
   "metadata": {},
   "outputs": [],
   "source": [
    "mission_duration = 10  # Duration of the mission in hours\n",
    "fuel_level = 1000  # Initial fuel level in gallons\n",
    "distance_to_destination = 500000  # Distance to the destination in kilometers\n",
    "mission_time = 0  # Initialize mission time\n",
    "fuel_consumption_rate = 50  # gallons per hour \n",
    "distance_traveled_per_hour = 50000  # kilometers per hour"
   ]
  },
  {
   "cell_type": "code",
   "execution_count": null,
   "id": "19f4def1-cf28-4bd0-a7b4-53f0e43d17c0",
   "metadata": {},
   "outputs": [],
   "source": []
  }
 ],
 "metadata": {
  "kernelspec": {
   "display_name": "Python 3 (ipykernel)",
   "language": "python",
   "name": "python3"
  },
  "language_info": {
   "codemirror_mode": {
    "name": "ipython",
    "version": 3
   },
   "file_extension": ".py",
   "mimetype": "text/x-python",
   "name": "python",
   "nbconvert_exporter": "python",
   "pygments_lexer": "ipython3",
   "version": "3.11.7"
  }
 },
 "nbformat": 4,
 "nbformat_minor": 5
}
