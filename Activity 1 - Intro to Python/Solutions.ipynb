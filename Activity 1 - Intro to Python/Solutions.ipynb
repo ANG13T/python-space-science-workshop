{
 "cells": [
  {
   "cell_type": "markdown",
   "id": "f7c7bafe-793a-44e5-b9fd-9ce1902749f2",
   "metadata": {},
   "source": [
    "## Python Overview 🐍\n",
    "\n",
    "Python is a high-level, versatile programming language known for its simpe syntax. It is a great way to get started programming due to its large community and wide breadth of real-world applications including data analysis, artificial intelligence, automation, and space!"
   ]
  },
  {
   "cell_type": "markdown",
   "id": "5ef68e53-45b1-4281-b05f-3e08b9c54628",
   "metadata": {},
   "source": [
    "### Exercise: Your First Variable ✨\n",
    "\n",
    "#### Objective: \n",
    "- Assign a variable called `random_number` to a number of your choice\n",
    "- Print your `random_number` variable using the `print` command"
   ]
  },
  {
   "cell_type": "code",
   "execution_count": 2,
   "id": "5edb7330-94c6-4a43-b213-3761ffe21925",
   "metadata": {},
   "outputs": [
    {
     "name": "stdout",
     "output_type": "stream",
     "text": [
      "10\n"
     ]
    }
   ],
   "source": [
    "random_number = 10\n",
    "print(random_number)"
   ]
  },
  {
   "cell_type": "markdown",
   "id": "44bd59e1-4dcc-4d9d-bc8b-e209111bd814",
   "metadata": {},
   "source": [
    "### Exercise: Space Resource Calculations 🧮\n",
    "You are a mission planner for an upcoming spacecraft launch. You are tasked with computing the following values.\n",
    "\n",
    "#### Objective: \n",
    "- Calculate and print the total distance traveled\n",
    "- Calculate and print the total fuel consumed\n",
    "- Calculate and print the total time to destination\n",
    "- Create a variable called `full_name` and print out the full name of the astronaut \n",
    "\n",
    "#### NOTE: you can calculate all the values above using the hard-coded variables below.\n",
    "#### HINT: listed below are all the equations you need for this problem\n",
    "```\n",
    "Distance = Speed x Time\n",
    "Fuel Consumption = Distance / Fuel Efficiency\n",
    "Time to Destination = Distance / Speed\n",
    "```"
   ]
  },
  {
   "cell_type": "code",
   "execution_count": 3,
   "id": "dec59bf8-2c9d-4c61-958b-eb37e37f6234",
   "metadata": {},
   "outputs": [],
   "source": [
    "travel_time = 10  # hours\n",
    "speed = 5000      # kilometers per hour\n",
    "fuel_efficiency = 10  # kilometers per liter\n",
    "first_name = \"Sally\"\n",
    "last_name = \"Ride\""
   ]
  },
  {
   "cell_type": "code",
   "execution_count": 7,
   "id": "e4064c25-9d88-46ea-85f5-d7935a76d99d",
   "metadata": {},
   "outputs": [],
   "source": [
    "total_distance = speed * travel_time\n",
    "total_fuel = total_distance / fuel_efficiency\n",
    "time_to_destination = total_distance / speed\n",
    "full_name = first_name + \" \" + last_name"
   ]
  },
  {
   "cell_type": "code",
   "execution_count": 8,
   "id": "1929ae18-31ba-4e36-9b81-7d83751d41d0",
   "metadata": {},
   "outputs": [
    {
     "name": "stdout",
     "output_type": "stream",
     "text": [
      "Total Distance:  50000\n",
      "Total Fuel:  5000.0\n",
      "Time to Destination:  10.0\n",
      "Full Name Sally Ride\n"
     ]
    }
   ],
   "source": [
    "print(\"Total Distance: \", total_distance)\n",
    "print(\"Total Fuel: \", total_fuel)\n",
    "print(\"Time to Destination: \", time_to_destination)\n",
    "print(\"Full Name\", full_name)"
   ]
  },
  {
   "cell_type": "markdown",
   "id": "b50645a0-cac1-4909-92ec-4281c3a51d2c",
   "metadata": {},
   "source": [
    "### Exercise: Having Fun with Typecasts ✨\n",
    "\n",
    "#### Objective: \n",
    "- Typecast `fuel_remaining` (float) into an `int`\n",
    "- Typecast `oxygen_levels` (int) into a `float`\n",
    "- Print out the outputs to look like the following:\n",
    "```\n",
    "Fuel Remaining: 33 L\n",
    "Oxygen Levels: 21.0 kPa\n",
    "```"
   ]
  },
  {
   "cell_type": "code",
   "execution_count": 9,
   "id": "146d63b3-92bc-48d4-9807-73d040096367",
   "metadata": {},
   "outputs": [],
   "source": [
    "fuel_remaining = 33.42\n",
    "oxygen_levels = 21"
   ]
  },
  {
   "cell_type": "code",
   "execution_count": 11,
   "id": "897a55b7-f1a9-4acc-b2a0-d64af5a997e1",
   "metadata": {},
   "outputs": [],
   "source": [
    "fuel_remaining = int(fuel_remaining)\n",
    "oxygen_levels = float(oxygen_levels)"
   ]
  },
  {
   "cell_type": "code",
   "execution_count": 10,
   "id": "a026114d-6809-4289-893e-f51054688303",
   "metadata": {},
   "outputs": [
    {
     "name": "stdout",
     "output_type": "stream",
     "text": [
      "Fuel Remaining: 33.42 L\n",
      "Oxygen Levels: 21 kPa\n"
     ]
    }
   ],
   "source": [
    "print(\"Fuel Remaining: \" + str(fuel_remaining) + \" L\")\n",
    "print(\"Oxygen Levels: \" + str(oxygen_levels) + \" kPa\")"
   ]
  },
  {
   "cell_type": "markdown",
   "id": "dcf4db36-e047-4022-8201-619faae0bc5c",
   "metadata": {},
   "source": [
    "### Exercise: Array Manipulation ⚡️\n",
    "\n",
    "#### Objective: \n",
    "Using the `values` array below, run the following steps in order.\n",
    "1. Delete the last item\n",
    "2. Set the second element to the number 8\n",
    "3. Flip the array\n",
    "4. Append the numbers 5 and 9 to the array\n",
    "5. Print out the array\n",
    "\n",
    "#### HINT: the output should be the following:\n",
    "\n",
    "```\n",
    "[4,3,8,1,5,9]\n",
    "```"
   ]
  },
  {
   "cell_type": "code",
   "execution_count": 14,
   "id": "5f881075-33ab-405b-a073-ad6329357bd2",
   "metadata": {},
   "outputs": [],
   "source": [
    "values = [1, 2, 3, 4, 5]"
   ]
  },
  {
   "cell_type": "code",
   "execution_count": 15,
   "id": "560fb12a-935e-4e26-9e0e-4a20ce1d53b2",
   "metadata": {},
   "outputs": [
    {
     "name": "stdout",
     "output_type": "stream",
     "text": [
      "[4, 3, 8, 1, 5, 9]\n"
     ]
    }
   ],
   "source": [
    "del values[-1]\n",
    "values[1] = 8\n",
    "values = values[::-1]\n",
    "values.append(5)\n",
    "values.append(9)\n",
    "print(values)"
   ]
  },
  {
   "cell_type": "markdown",
   "id": "7f62f9f8-dc88-42c2-99b1-40dcbca744b9",
   "metadata": {},
   "source": [
    "### Exercise: Modular Calculator ➗\n",
    "Write a calculator using the `math` module that contains the following features:\n",
    "\n",
    "#### Objective: \n",
    "- Write a function called `pow` that takes inputs a and b and returns the power\n",
    "- Write a function called `ceiling` that takes input a returns `math.ceil`\n",
    "- Write a function called `floor` that takes input a returns `math.floor`\n",
    "- Write a function called `factorial` that takes input a returns `math.factorial`\n",
    "- Use the variables a and b below as needed for each function"
   ]
  },
  {
   "cell_type": "code",
   "execution_count": 16,
   "id": "84bb9b56-b28d-45e6-b2bc-75df5be20e31",
   "metadata": {},
   "outputs": [],
   "source": [
    "a = 4\n",
    "b = 5"
   ]
  },
  {
   "cell_type": "code",
   "execution_count": 17,
   "id": "0bd178a0-068b-425b-8686-db82c6538e75",
   "metadata": {},
   "outputs": [],
   "source": [
    "import math\n",
    "\n",
    "def pow(a, b):\n",
    "    return math.pow(a, b)\n",
    "\n",
    "def ceiling(a):\n",
    "    return math.ceil(a)\n",
    "\n",
    "def floor(a):\n",
    "    return math.floor(a)\n",
    "\n",
    "def factorial(a):\n",
    "    return math.factorial(a)"
   ]
  },
  {
   "cell_type": "code",
   "execution_count": 18,
   "id": "57091232-01ba-4ae2-a56a-94b8ff97d121",
   "metadata": {},
   "outputs": [
    {
     "name": "stdout",
     "output_type": "stream",
     "text": [
      "1024.0\n",
      "4\n",
      "4\n",
      "24\n"
     ]
    }
   ],
   "source": [
    "print(pow(a, b))\n",
    "print(ceiling(a))\n",
    "print(floor(a))\n",
    "print(factorial(a))"
   ]
  },
  {
   "cell_type": "markdown",
   "id": "7531ea56-5508-4741-b290-70d40344e95f",
   "metadata": {},
   "source": [
    "### Exercise: Mission Control Flow 📡\n",
    "You are tasked with creating a simple Python program to simulate space mission control operations. The program should incorporate various control flow structures to manage different aspects of the mission.\n",
    "\n",
    "#### Objective: \n",
    "- Initialize a `while` loop that runs when the mission time is less than or equal to the mission duration\n",
    "- Within the `while` loop, decrease the distance to the destination by the distance traveled per hour\n",
    "- Within the `while` loop, decrease the fuel level by the fuel consumption rate\n",
    "- Within the `while` loop, print out the fuel level, mission time, and fuel level\n",
    "- Break out the `while` loop if fuel level OR distance to the destination is less than or equal to 0\n",
    "- Increment the mission duration by one after each time "
   ]
  },
  {
   "cell_type": "code",
   "execution_count": 12,
   "id": "f68d7314-1f8a-4e78-81fd-72dc03a6f789",
   "metadata": {},
   "outputs": [],
   "source": [
    "mission_duration = 10  # Duration of the mission in hours\n",
    "fuel_level = 1000  # Initial fuel level in gallons\n",
    "distance_to_destination = 500000  # Distance to the destination in kilometers\n",
    "mission_time = 0  # Initialize mission time\n",
    "fuel_consumption_rate = 50  # gallons per hour \n",
    "distance_traveled_per_hour = 50000  # kilometers per hour"
   ]
  },
  {
   "cell_type": "code",
   "execution_count": 13,
   "id": "bd8fb988-5be5-4801-a436-ee3e955a80a1",
   "metadata": {},
   "outputs": [
    {
     "name": "stdout",
     "output_type": "stream",
     "text": [
      "Mission Time: 0 hours\n",
      "Remaining Fuel: 950 gallons\n",
      "Distance to Destination: 450000 kilometers\n",
      "\n",
      "Mission Time: 1 hours\n",
      "Remaining Fuel: 900 gallons\n",
      "Distance to Destination: 400000 kilometers\n",
      "\n",
      "Mission Time: 2 hours\n",
      "Remaining Fuel: 850 gallons\n",
      "Distance to Destination: 350000 kilometers\n",
      "\n",
      "Mission Time: 3 hours\n",
      "Remaining Fuel: 800 gallons\n",
      "Distance to Destination: 300000 kilometers\n",
      "\n",
      "Mission Time: 4 hours\n",
      "Remaining Fuel: 750 gallons\n",
      "Distance to Destination: 250000 kilometers\n",
      "\n",
      "Mission Time: 5 hours\n",
      "Remaining Fuel: 700 gallons\n",
      "Distance to Destination: 200000 kilometers\n",
      "\n",
      "Mission Time: 6 hours\n",
      "Remaining Fuel: 650 gallons\n",
      "Distance to Destination: 150000 kilometers\n",
      "\n",
      "Mission Time: 7 hours\n",
      "Remaining Fuel: 600 gallons\n",
      "Distance to Destination: 100000 kilometers\n",
      "\n",
      "Mission Time: 8 hours\n",
      "Remaining Fuel: 550 gallons\n",
      "Distance to Destination: 50000 kilometers\n",
      "\n",
      "Mission Time: 9 hours\n",
      "Remaining Fuel: 500 gallons\n",
      "Distance to Destination: 0 kilometers\n",
      "\n",
      "Mission Complete!\n"
     ]
    }
   ],
   "source": [
    "while mission_time < mission_duration:\n",
    "    # Update mission parameters\n",
    "    fuel_level -= fuel_consumption_rate\n",
    "    distance_to_destination -= distance_traveled_per_hour\n",
    "\n",
    "    # Display mission updates\n",
    "    print(\"Mission Time:\", mission_time, \"hours\")\n",
    "    print(\"Remaining Fuel:\", fuel_level, \"gallons\")\n",
    "    print(\"Distance to Destination:\", distance_to_destination, \"kilometers\\n\")\n",
    "\n",
    "    # Check mission status\n",
    "    if fuel_level <= 0 or distance_to_destination <= 0:\n",
    "        break\n",
    "\n",
    "    # Increment mission time\n",
    "    mission_time += 1\n",
    "print(\"Mission Complete!\")"
   ]
  }
 ],
 "metadata": {
  "kernelspec": {
   "display_name": "Python 3 (ipykernel)",
   "language": "python",
   "name": "python3"
  },
  "language_info": {
   "codemirror_mode": {
    "name": "ipython",
    "version": 3
   },
   "file_extension": ".py",
   "mimetype": "text/x-python",
   "name": "python",
   "nbconvert_exporter": "python",
   "pygments_lexer": "ipython3",
   "version": "3.11.7"
  }
 },
 "nbformat": 4,
 "nbformat_minor": 5
}
