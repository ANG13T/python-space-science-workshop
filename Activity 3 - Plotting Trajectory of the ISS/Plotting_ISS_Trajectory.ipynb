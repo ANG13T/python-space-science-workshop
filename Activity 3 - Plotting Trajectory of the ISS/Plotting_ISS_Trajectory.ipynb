{
 "cells": [
  {
   "cell_type": "markdown",
   "id": "4d462ce9-526e-42ad-ba9c-73d6849cbd20",
   "metadata": {},
   "source": [
    "## Orbital Mechanics 🪐\n",
    "Orbital mechanics refers to the study of the motions of artificial satellites under the influence of gravity and other factors such as thrust and naturally-induced forces within the space environment."
   ]
  },
  {
   "cell_type": "markdown",
   "id": "2d252e40-9b72-45e2-9f97-b01801deb854",
   "metadata": {},
   "source": [
    "### Conic Sections\n",
    "A conic section refers to a curve that is created when a plane is passed through a right circular cone as depicted below:\n",
    "\n",
    "\n",
    "The orientation of which the plane is passed through the cone determines the category of the conic section: `circle`, `ellipse`, `parabola`, or `hyperbola`.\n",
    "\n",
    "All of the conic sections are defined by their `eccentricity` (how stretched out the ellipse of the orbit is). We will be diving further into this lesson.\n",
    "\n"
   ]
  },
  {
   "cell_type": "markdown",
   "id": "36e9e6cc-98a4-44dd-8467-fec1e6725996",
   "metadata": {},
   "source": [
    "### Characteristics of an Ellipse \n",
    "- **Focus**: one of two fixed points within an ellipse. These points are such that the sum of the distances from any point on the ellipse to the two foci remains constant.\n",
    "\n",
    "- **Major Axis**: longest diameter of the ellipse, passing through the two foci and the center of the ellipse.\n",
    "\n",
    "- **Minor Axis**: shortest diameter of the ellipse. It passes through the center of the ellipse and is perpendicular to the major axis.\n",
    "\n",
    "![https://study.com/cimages/multimages/16/ellipse6505305403254083431.jpg](https://study.com/cimages/multimages/16/ellipse6505305403254083431.jpg)\n",
    "\n",
    "[Image Source](https://www.google.com/url?sa=i&url=https%3A%2F%2Fstudy.com%2Fskill%2Flearn%2Fhow-to-find-the-eccentricity-of-an-ellipse-explanation.html&psig=AOvVaw0ctNvUZ-oSiOH-ni9esAos&ust=1710576555425000&source=images&cd=vfe&opi=89978449&ved=0CBMQjhxqFwoTCPi3zrXo9YQDFQAAAAAdAAAAABAg)"
   ]
  },
  {
   "cell_type": "markdown",
   "id": "ace20115-715e-410a-ab14-6478d4a4abe6",
   "metadata": {},
   "source": [
    "### Characteristics of an Orbit \n",
    "- **Apoapsis**: the **furthest** point of a satellite to its orbiting body\n",
    "\n",
    "- **Periapsis**: the **closest** point of a satellite to its orbiting body\n",
    "\n",
    "![https://upload.wikimedia.org/wikipedia/commons/thumb/a/a0/Periapsis_apoapsis.png/500px-Periapsis_apoapsis.png](https://upload.wikimedia.org/wikipedia/commons/thumb/a/a0/Periapsis_apoapsis.png/500px-Periapsis_apoapsis.png)\n",
    "\n",
    "[Image Source](https://en.wikipedia.org/wiki/Apsis)\n",
    "\n",
    "- **Ascending Node**: the point where the orbiting object crosses the plane of reference from below to above\n",
    "\n",
    "- **Descending Node**: where the orbiting object crosses from north to south through the plane of reference"
   ]
  },
  {
   "cell_type": "markdown",
   "id": "99ea6f16-1ea3-4f2f-b1b5-37ea6ea1236d",
   "metadata": {},
   "source": [
    "### Orbital aka Keplarian Elements\n",
    "There are six characteristics that define the shape of an orbit and they are called **orbital elements.** They include:\n",
    "\n",
    "- **Semi-Major Axis (a)**: half of the major axis\n",
    "\n",
    "- **Eccentricity (e)**: how much an orbit deviates from a perfect circle (e = 0) and elongated orbits (e > 0)\n",
    "  \n",
    "- **Inclination (i)**: angle between the orbital plane and the reference plane\n",
    "  \n",
    "- **Argument of Periapsis (w)**: orientation fo the orbit. It is the angle between the ascending node and the periapsis\n",
    "  \n",
    "- **Longitude of Ascending Node (Ω)**: angle measured from a reference direction to the ascending node\n",
    "\n",
    "- **Mean Anomaly (M)**: measure of the position of the orbiting body along its orbit at a specific point in time in degrees\n",
    "\n",
    "Orbital elements can be quite challenging to understand at first, but let's break them all down individually!\n",
    "\n",
    "![https://www.researchgate.net/publication/358145330/figure/fig1/AS:1116894291595266@1643299758737/Left-Illustration-of-five-of-the-eight-Keplerian-elements-estimated-in-this-work-The.png](https://www.researchgate.net/publication/358145330/figure/fig1/AS:1116894291595266@1643299758737/Left-Illustration-of-five-of-the-eight-Keplerian-elements-estimated-in-this-work-The.png)\n",
    "\n",
    "[Image Source](https://www.researchgate.net/figure/Left-Illustration-of-five-of-the-eight-Keplerian-elements-estimated-in-this-work-The_fig1_358145330)"
   ]
  },
  {
   "cell_type": "markdown",
   "id": "ace59862-da27-4333-860d-9b74239772bc",
   "metadata": {},
   "source": [
    "#### Semi-Major Axis & Eccentricity\n",
    "The semi-major axis of an orbit is the length from the center of the orbiting body to the furthest point of the orbit. It indicates how stretched out the orbit is.\n",
    "\n",
    "The length of the semi-major axis of an orbit determines the eccentricity of it. \n",
    "the eccentricity determines how elongated an orbit is:\n",
    "\n",
    "![https://astronomy.swin.edu.au/cms/cpg15x/albums/userpics/eccentricity.jpg](https://astronomy.swin.edu.au/cms/cpg15x/albums/userpics/eccentricity.jpg)\n",
    "\n",
    "[Image Source](https://www.google.com/url?sa=i&url=https%3A%2F%2Fastronomy.swin.edu.au%2Fcosmos%2Fo%2FOrbital%2BEccentricity&psig=AOvVaw20RioVWH0LkeWDU0OMg30t&ust=1710711161550000&source=images&cd=vfe&opi=89978449&ved=0CBMQjhxqFwoTCODM7-vd-YQDFQAAAAAdAAAAABAD)\n",
    "\n",
    "The eccentricity value of an orbit is used to classify the shape of the orbital path. They include:\n",
    "\n",
    "`e = 0`: circular orbit\n",
    "\n",
    "`0 < e < 1`: elliptical orbit\n",
    "\n",
    "`e = 1`: parabolic orbit\n",
    "\n",
    "`e > 1`: hyperbolic orbit\n",
    "\n",
    "![https://www.astronomy.ohio-state.edu/thompson.1847/1101/OrbitFamilies.gif](https://www.astronomy.ohio-state.edu/thompson.1847/1101/OrbitFamilies.gif)\n",
    "\n",
    "[Image Source](https://www.astronomy.ohio-state.edu/thompson.1847/1101/lecture_orbits_gravity.html)"
   ]
  },
  {
   "cell_type": "markdown",
   "id": "28c55ce1-31be-4457-9799-4fd15462e659",
   "metadata": {},
   "source": [
    "#### Inclination\n",
    "Inclination describes the angle between the orbital plane of the satellite and the equatorial plane formed by its orbiting body.\n",
    "\n",
    "The inclination of a satellite can be used to classify its type of orbit. The categories of orbits include:\n",
    "\n",
    "`i = 0 or i = 180`: equatorial orbit (orbit is oriented parallel to the equatorial plane of the central body)\n",
    "\n",
    "\n",
    "`0 < i < 90`: prograde orbit (orbit of the planet's equator matches the direction of its rotation around its central body)\n",
    "\n",
    "`i = 90`: polar orbit (orbit is oriented perpendicular to the equatorial plane of the central body)\n",
    "\n",
    "`90 < i < 180`: retrograde orbit (orbiting object moves in the opposite direction relative to the rotation of its central body)\n",
    "\n",
    "![https://www.researchgate.net/publication/329370763/figure/fig1/AS:699734658383873@1543841151080/Prograde-and-Retrograde-orbit-inclination.png](https://www.researchgate.net/publication/329370763/figure/fig1/AS:699734658383873@1543841151080/Prograde-and-Retrograde-orbit-inclination.png)\n",
    "\n",
    "[Image Source](https://www.google.com/url?sa=i&url=https%3A%2F%2Fwww.researchgate.net%2Ffigure%2FPrograde-and-Retrograde-orbit-inclination_fig1_329370763&psig=AOvVaw3W87PWwYHSN20TDtAM0Jr2&ust=1710712722519000&source=images&cd=vfe&opi=89978449&ved=0CBEQjRxqFwoTCICc1obk-YQDFQAAAAAdAAAAABAD)"
   ]
  },
  {
   "cell_type": "markdown",
   "id": "3bd9f7d8-50c3-406c-8caf-b3f40bbe131c",
   "metadata": {},
   "source": [
    "### Types of Orbits \n",
    "Aside from the types of orbits mentioned above, there are a few more worht mentioning:\n",
    "\n",
    "`Geostationary Orbit`: Circular orbit where the orbiting object is relative to a fixed point on the central body. The orbiting body is right above the equator (i = 0).\n",
    "\n",
    "`Sun-Synchronous Orbit (SSO)`: The orbiting object orbits around the central body in such a manner that is maintains a fixed angle in respect to the direction of the Sun. \n",
    "\n",
    "`Molniya Orbit`: Highly elliptical orbits (very high inclination value) that allow for time to orbit within high altitude. \n",
    "\n",
    "`Hohmann Transfer Orbit`: interplanetary trajectories that optimize on propellant usage efficency.\n",
    "\n",
    "`Low Earth Orbit (LEO)`: any orbit that is within 160 - 2000km (100 - 1200 miles) above the surface of Earth.\n",
    "\n",
    "`Medium Earth Orbit (MEO)`: any orbit that is within 2000 - 35786km (1200 - 22236 miles) above the surface of Earth.\n",
    "\n",
    "`High Earth Orbit (HEO):`: any orbit that is above 35786km (22236 miles) the surface of Earth.\n",
    "\n",
    "![https://www.iasgyan.in//ig-uploads/images//orbits-characteristics-satellite-shape-inclination-Earth-terms1.jpg](https://www.iasgyan.in//ig-uploads/images//orbits-characteristics-satellite-shape-inclination-Earth-terms1.jpg)\n",
    "\n",
    "[Image Source](https://www.google.com/url?sa=i&url=https%3A%2F%2Fwww.iasgyan.in%2Fblogs%2Ftypes-of-orbits-explained&psig=AOvVaw3BcwOPeUhCIxfbsX_X9ELY&ust=1710712642784000&source=images&cd=vfe&opi=89978449&ved=0CBEQjRxqFwoTCJjJ-a_j-YQDFQAAAAAdAAAAABAD)"
   ]
  },
  {
   "cell_type": "markdown",
   "id": "f9c7e311-6821-46b3-b380-16833330e0fa",
   "metadata": {},
   "source": [
    "### Orbital Motion (Kepler's Laws of Planetary Motion)\n",
    "Kepler's Laws of Planetary Motion dictate the rudimentary motions of bodies within the solar system. They are as follows:\n",
    "\n",
    "1. **Law of Ellipses**: All planets move along elliptical paths around the Sun, with the Sun located at one of the two foci of each ellipse. This law describes the overall shape of planetary orbits.\n",
    "\n",
    "2. **Law of Equal Areas**: A line segment joining a planet to the Sun sweeps out equal areas in equal intervals of time. This law shows the dynamic nature of the movement of the orbiting body (planets move faster closer to the Sun and slower while moving further away).\n",
    "\n",
    "3. **Law of Harmonies**: The square of the orbital period of any planet is proportional to the cube of the semi-major axis of its orbit. This law reveals a mathematical relationship between a planet's orbital period and its average distance from the Sun.\n",
    "\n",
    "These laws are predicated on Newton's Laws of Motion and the Law of Universal Gravitation.\n",
    "\n",
    "![https://st.adda247.com/https://www.careerpower.in/blog/wp-content/uploads/sites/2/2023/07/02174556/kepler-law.png](https://st.adda247.com/https://www.careerpower.in/blog/wp-content/uploads/sites/2/2023/07/02174556/kepler-law.png)\n",
    "[Image Source](https://www.google.com/url?sa=i&url=https%3A%2F%2Fwww.careerpower.in%2Fschool%2Fphysics%2Fkeplers-law&psig=AOvVaw0oq6PZYN9GJLgM4GucAKo0&ust=1710714729702000&source=images&cd=vfe&opi=89978449&ved=0CBEQjRxqFwoTCKj8lJLr-YQDFQAAAAAdAAAAABAI)"
   ]
  },
  {
   "cell_type": "markdown",
   "id": "f990f6f3-d820-4e2f-8b2e-29769bf14587",
   "metadata": {},
   "source": [
    "# Simulation Time! 🪐\n",
    "Experimenting with Orbital Mechanics using [https://orbitalmechanics.info](orbitalmechanics.info)"
   ]
  },
  {
   "cell_type": "markdown",
   "id": "fdffd2d3-3e26-420d-a7f4-c76c0a34e4b5",
   "metadata": {},
   "source": [
    "## TLE (Two-Line Element Set)\n",
    "A TLE is a standardized format used to describe the orbit of an object around Earth. It looks something like the following:\n",
    "\n",
    "![https://kaitlyn.guru/wp-content/uploads/2020/11/2line.gif](https://kaitlyn.guru/wp-content/uploads/2020/11/2line.gif)\n",
    "\n",
    "[Image Source](https://www.google.com/url?sa=i&url=https%3A%2F%2Fkaitlyn.guru%2Fprojects%2Ftwo-line-elements-tle%2F&psig=AOvVaw2U4l7F8N_Q8_mA-lifAZLB&ust=1710783341791000&source=images&cd=vfe&opi=89978449&ved=0CBEQjRxqFwoTCMCM897q-4QDFQAAAAAdAAAAABAD)\n",
    "\n",
    "TLEs are usually comprised of 2 or 3 lines. If there is a third line, the first line is designated for the name of the satellite. Let's do a breakdown of the following TLE:\n",
    "\n",
    "```\n",
    "ISS (ZARYA)\n",
    "1 25544U 98067A   08264.51782528 -.00002182  00000-0 -11606-4 0  2927\n",
    "2 25544  51.6416 247.4627 0006703 130.5360 325.0288 15.72125391563537\n",
    "```\n",
    "\n",
    "## TLE Breakdown\n",
    "\n",
    "### Line One (Optional)\n",
    "- **Satellite Name**: 11 characters containing the identifiable name of the satellite (ISS (ZARYA))\n",
    "\n",
    "### Line Two \n",
    "- **Satellite Catalog Number**: catalog number of satellite defined by 5 characters (25544)\n",
    "- **Classification**: U: unclassified, C: classified, S: secret (U)\n",
    "- **International Designator**: last two digits of launch year (98)\n",
    "- **International Designator**: launch number of the year (067)\n",
    "- **International Designator**: piece of the launch (A)\n",
    "- **Epoch Year**: last two digits of year (U)\n",
    "- **Epoch**: day of the year and fractional portion of the day (264.51782528)\n",
    "- **First Derivative of Mean Motion**: the ballistic coefficient (-.00002182)\n",
    "- **Second Derivative of Mean Motion**: decimal point assumed (00000–0)\n",
    "- **B\\* Drag Term**: radiation pressure coefficient. decimal point assumed (-11606–4)\n",
    "- **Ephemeris Type**: always zero; only used in undistributed TLE data (0)\n",
    "- **Element Set Number**: incremented when a new TLE is generated for this object (292)\n",
    "- **Checksum**: checking modulo 10 (7)\n",
    "\n",
    "### Line Three\n",
    "- **Satellite Catalog Number**: catalog number of satellite defined by 5 characters (25544)\n",
    "- **Inclination**: in degrees (51.6416)|\n",
    "- **Right Ascension**: right ascension of the ascending node (degrees) (247.4627)\n",
    "- **Eccentricity**: decimal point assumed (0006703)\n",
    "- **Argument of Perigee**: in degrees (130.5360)\n",
    "- **Mean Anomaly**: in degrees (325.0288)\n",
    "- **Mean Motion**: revolutions per day (15.72125391)\n",
    "- **Revolution Number of Epochs**: revolution number at epoch (revolutions) (56353)\n",
    "- **Checksum**: checking modulo 10 (7)"
   ]
  },
  {
   "cell_type": "markdown",
   "id": "77019155-e089-422b-b229-b2bbdad42fa4",
   "metadata": {},
   "source": [
    "## TLE Data Sources\n",
    "There are a number of sources to gather real-time TLE data of satellites orbiting around Earth. A few great options include:\n",
    "\n",
    "- [**N2YO**](https://www.n2yo.com/)\n",
    "\n",
    "- [**CelesTrak**](https://www.celestrak.com)\n",
    "\n",
    "- [**SpaceTrack**](https://www.space-track.org)"
   ]
  },
  {
   "cell_type": "markdown",
   "id": "343ee119-9736-41a7-9210-d709cfac1114",
   "metadata": {},
   "source": [
    "## Parsing TLEs \n",
    "Now that we have a foundational conceptual background of TLEs, let's apply our knowledge to create our own TLE parser. \n",
    "\n",
    "## Excercise: Find a TLE from one of the sources above and then populate the `tle.txt`"
   ]
  },
  {
   "cell_type": "markdown",
   "id": "8973de4d-6c7d-4e3b-ba73-ce449c39b586",
   "metadata": {},
   "source": [
    "### Step One: Read TLE from a Text File\n",
    "In order to read data from a text file, you can utilize the `open` method within Python. The following snippet of code, reads each line within the `tle.txt` text file using read-mode (\"r\") and stores it inside a variable titled `tle_data` as an array."
   ]
  },
  {
   "cell_type": "code",
   "execution_count": 29,
   "id": "17e426e8-d8bc-4222-a4ce-3b4e93ffe357",
   "metadata": {},
   "outputs": [],
   "source": [
    "path = \"tle.txt\"\n",
    "tle_data = open(\"tle.txt\", \"r\").readlines()"
   ]
  },
  {
   "cell_type": "code",
   "execution_count": 30,
   "id": "0a44838b-2c71-4fea-b13f-cad3f2ddb955",
   "metadata": {},
   "outputs": [
    {
     "name": "stdout",
     "output_type": "stream",
     "text": [
      "['ISS (ZARYA)\\n', '1 25544U 98067A   08264.51782528 -.00002182  00000-0 -11606-4 0  2927\\n', '2 25544  51.6416 247.4627 0006703 130.5360 325.0288 15.72125391563537']\n"
     ]
    }
   ],
   "source": [
    "print(tle_data)"
   ]
  },
  {
   "cell_type": "markdown",
   "id": "9803f662-298a-4421-a14c-1a9e9a2b1c0c",
   "metadata": {},
   "source": [
    "### Step Two: Cleaning the Data\n",
    "You might have noticed that each item within the array has a nasty `\\n` appended at the end of the string. This is because `\\n` is a special character that delineates each line within a text file. You can eliminate the `\\n` by using the `strip()` method."
   ]
  },
  {
   "cell_type": "code",
   "execution_count": 31,
   "id": "303b99be-9d61-42df-b878-08a23978dd4d",
   "metadata": {},
   "outputs": [
    {
     "name": "stdout",
     "output_type": "stream",
     "text": [
      "['ISS (ZARYA)', '1 25544U 98067A   08264.51782528 -.00002182  00000-0 -11606-4 0  2927', '2 25544  51.6416 247.4627 0006703 130.5360 325.0288 15.72125391563537']\n"
     ]
    }
   ],
   "source": [
    "tle_data_clean = list(map(lambda line: line.strip(), tle_data))\n",
    "print(tle_data_clean)"
   ]
  },
  {
   "cell_type": "markdown",
   "id": "e5b050bc-655f-47b4-959c-4726aa86082c",
   "metadata": {},
   "source": [
    "The above code, uses a special kind of operation within Python entitled a lambda function which is used when you want to run a simple function without defining a formal function using the `def` keyword."
   ]
  },
  {
   "cell_type": "markdown",
   "id": "141bd705-67aa-4bbf-9686-262dd083c783",
   "metadata": {},
   "source": [
    "### Step 3: Interpreting the TLE\n",
    "The last step is to interpret the TLE and assign the right values to the proper variable names."
   ]
  },
  {
   "cell_type": "code",
   "execution_count": 32,
   "id": "a39b897b-d6e4-421f-baa8-dee5922370ad",
   "metadata": {},
   "outputs": [],
   "source": [
    "for i in range(len(tle_data_clean)):\n",
    "    name = tle_data_clean[0]\n",
    "    line1 = tle_data_clean[1]\n",
    "    line2 = tle_data_clean[2]\n",
    "\n",
    "    # Extracting individual values from Line 2\n",
    "    satellite_number = int(line1[2:7])\n",
    "    classification = line1[7]\n",
    "    international_designator_year = int(line1[9:11])\n",
    "    international_designator_launch_number = int(line1[11:14])\n",
    "    international_designator_piece_of_launch = line1[14:17]\n",
    "    epoch_year = int(line1[18:20])\n",
    "    epoch_day = float(line1[20:32])\n",
    "    first_derivative_mean_motion = float(line1[33:43])\n",
    "    second_derivative_mean_motion = line1[45:52]\n",
    "    bstar_drag_term = line1[53:61]\n",
    "    ephemeris_type = int(line1[62])\n",
    "    element_number = int(line1[64:68])\n",
    "\n",
    "    # Extracting individual values from Line 3\n",
    "    inclination = float(line2[8:16])\n",
    "    raan = float(line2[17:25])\n",
    "    eccentricity = float(\"0.\" + line2[26:33])\n",
    "    argument_of_perigee = float(line2[34:42])\n",
    "    mean_anomaly = float(line2[43:51])\n",
    "    mean_motion = float(line2[52:63])\n",
    "    revolution_number = int(line2[63:68])"
   ]
  },
  {
   "cell_type": "markdown",
   "id": "28c22cdf-254f-478a-a098-f78ded1017ea",
   "metadata": {},
   "source": [
    "### Step 4: Printing the TLE Data"
   ]
  },
  {
   "cell_type": "code",
   "execution_count": 33,
   "id": "1b81fa60-4283-42a4-8c60-d1a252c79d0a",
   "metadata": {},
   "outputs": [],
   "source": [
    "def print_tle(satellite):\n",
    "    print(f\"Name: {satellite['name']}\")\n",
    "    print(f\"Satellite Number: {satellite['satellite_number']}\")\n",
    "    print(f\"Classification: {satellite['classification']}\")\n",
    "    print(f\"International Designator Year: {satellite['international_designator_year']}\")\n",
    "    print(f\"International Designator Launch Number: {satellite['international_designator_launch_number']}\")\n",
    "    print(f\"International Designator Piece of Launch: {satellite['international_designator_piece_of_launch']}\")\n",
    "    print(f\"Epoch Year: {satellite['epoch_year']}\")\n",
    "    print(f\"Epoch Day: {satellite['epoch_day']}\")\n",
    "    print(f\"First Derivative Mean Motion: {satellite['first_derivative_mean_motion']}\")\n",
    "    print(f\"Second Derivative Mean Motion: {satellite['second_derivative_mean_motion']}\")\n",
    "    print(f\"Bstar Drag Term: {satellite['bstar_drag_term']}\")\n",
    "    print(f\"Ephemeris Type: {satellite['ephemeris_type']}\")\n",
    "    print(f\"Element Number: {satellite['element_number']}\")\n",
    "    print(f\"Inclination: {satellite['inclination']}\")\n",
    "    print(f\"RAAN: {satellite['raan']}\")\n",
    "    print(f\"Eccentricity: {satellite['eccentricity']}\")\n",
    "    print(f\"Argument of Perigee: {satellite['argument_of_perigee']}\")\n",
    "    print(f\"Mean Anomaly: {satellite['mean_anomaly']}\")\n",
    "    print(f\"Mean Motion: {satellite['mean_motion']}\")\n",
    "    print(f\"Revolution Number: {satellite['revolution_number']}\")\n",
    "    print()"
   ]
  },
  {
   "cell_type": "code",
   "execution_count": 34,
   "id": "024595d7-3e7c-4a70-96c2-7bedd36cc4a6",
   "metadata": {},
   "outputs": [],
   "source": [
    "data = {\n",
    "    \"name\": name, \n",
    "    \"satellite_number\": satellite_number, \n",
    "    \"classification\": classification, \n",
    "    \"international_designator_year\": international_designator_year, \n",
    "    \"international_designator_launch_number\": international_designator_launch_number, \n",
    "    \"international_designator_piece_of_launch\": international_designator_piece_of_launch,\n",
    "    \"epoch_year\": epoch_year, \n",
    "    \"epoch_day\": epoch_day, \n",
    "    \"first_derivative_mean_motion\": first_derivative_mean_motion, \n",
    "    \"second_derivative_mean_motion\": second_derivative_mean_motion, \n",
    "    \"bstar_drag_term\": bstar_drag_term, \n",
    "    \"ephemeris_type\": ephemeris_type, \n",
    "    \"element_number\": element_number, \n",
    "    \"inclination\": inclination, \n",
    "    \"raan\": raan, \n",
    "    \"eccentricity\": eccentricity, \n",
    "    \"argument_of_perigee\": argument_of_perigee,\n",
    "    \"mean_anomaly\": mean_anomaly, \n",
    "    \"mean_motion\": mean_motion,\n",
    "    \"revolution_number\": revolution_number\n",
    "}"
   ]
  },
  {
   "cell_type": "code",
   "execution_count": 35,
   "id": "cf3b4b56-33ae-4dc0-87a4-bd4122b27378",
   "metadata": {},
   "outputs": [
    {
     "name": "stdout",
     "output_type": "stream",
     "text": [
      "Name: ISS (ZARYA)\n",
      "Satellite Number: 25544\n",
      "Classification: U\n",
      "International Designator Year: 98\n",
      "International Designator Launch Number: 67\n",
      "International Designator Piece of Launch: A  \n",
      "Epoch Year: 8\n",
      "Epoch Day: 264.51782528\n",
      "First Derivative Mean Motion: -2.182e-05\n",
      "Second Derivative Mean Motion: 00000-0\n",
      "Bstar Drag Term: -11606-4\n",
      "Ephemeris Type: 0\n",
      "Element Number: 292\n",
      "Inclination: 51.6416\n",
      "RAAN: 247.4627\n",
      "Eccentricity: 0.0006703\n",
      "Argument of Perigee: 130.536\n",
      "Mean Anomaly: 325.0288\n",
      "Mean Motion: 15.72125391\n",
      "Revolution Number: 56353\n",
      "\n"
     ]
    }
   ],
   "source": [
    "print_tle(data)"
   ]
  },
  {
   "cell_type": "markdown",
   "id": "190c3b22-65d3-4dde-9cb7-a7378659abaf",
   "metadata": {},
   "source": [
    "## Orbital Visualizations 🪐\n",
    "Using our skills in numpy and matplotlib, we can now create visualizations of orbits!"
   ]
  },
  {
   "cell_type": "markdown",
   "id": "fa2cf453-b631-48cb-a575-f365d4ea86ce",
   "metadata": {},
   "source": [
    "## Calculating Semi Major Axis \n",
    "Before we can visualize the orbit of a TLE, we need to calculate a few things ourselves. To calculate the semi-major axis of an orbit, you can do the following:"
   ]
  },
  {
   "cell_type": "code",
   "execution_count": 6,
   "id": "00cab805-1778-439d-b8f8-c7ca2d71049f",
   "metadata": {},
   "outputs": [
    {
     "data": {
      "text/latex": [
       "\\begin{align}\n",
       "a = \\left( \\frac{GM}{(2\\pi n)^2} \\right)^{1/3}\n",
       "\\end{align}\n"
      ],
      "text/plain": [
       "<IPython.core.display.Latex object>"
      ]
     },
     "metadata": {},
     "output_type": "display_data"
    }
   ],
   "source": [
    "%%latex\n",
    "\\begin{align}\n",
    "a = \\left( \\frac{GM}{(2\\pi n)^2} \\right)^{1/3}\n",
    "\\end{align}"
   ]
  },
  {
   "cell_type": "code",
   "execution_count": 36,
   "id": "a42960c5-b3ad-43fb-adef-2fa38675bc57",
   "metadata": {},
   "outputs": [],
   "source": [
    "import math\n",
    "\n",
    "def semi_major_axis(mean_motion):\n",
    "    G = 6.674 * 10**-11  # Gravitational constant (m³ kg⁻¹ s⁻²)\n",
    "    M = 5.972 * 10**24   # Mass of the Earth (kg)\n",
    "    n = mean_motion * (2 * math.pi) / (24 * 60 * 60)  # Convert mean motion from rev/day to rad/s\n",
    "    return (G * M / (n**2))**(1/3)"
   ]
  },
  {
   "cell_type": "code",
   "execution_count": 37,
   "id": "41996c25-9814-4bb1-8544-f85c0e140f66",
   "metadata": {},
   "outputs": [],
   "source": [
    "semimajor_axis = semi_major_axis(data[\"mean_motion\"])"
   ]
  },
  {
   "cell_type": "markdown",
   "id": "07e4f10a-33c8-46ba-bf4b-cd9fbd81cd32",
   "metadata": {},
   "source": [
    "## Calculating Orbital Period \n",
    "To calculate the orbital period of an orbit, you can do the following:"
   ]
  },
  {
   "cell_type": "markdown",
   "id": "5f9b970b-c15e-4dca-925a-2670afedfca5",
   "metadata": {},
   "source": [
    "%%latex\n",
    "\\begin{align}\n",
    "T^2 = \\frac{4 \\pi^2}{G M} a^3\n",
    "\\end{align}"
   ]
  },
  {
   "cell_type": "code",
   "execution_count": 10,
   "id": "810fe9db-3d3f-491c-9a7a-6d8277396fdf",
   "metadata": {},
   "outputs": [],
   "source": [
    "def orbital_period(semi_major_axis):\n",
    "    G = 6.674 * 10**-11  # Gravitational constant (m³ kg⁻¹ s⁻²)\n",
    "    M = 5.972 * 10**24   # Mass of the Earth (kg)\n",
    "    return 2 * math.pi * math.sqrt(semi_major_axis**3 / (G * M))"
   ]
  },
  {
   "cell_type": "code",
   "execution_count": 38,
   "id": "c09b0ec4-8cc7-421c-a3a0-10b56d864073",
   "metadata": {},
   "outputs": [],
   "source": [
    "period = orbital_period(semimajor_axis)"
   ]
  },
  {
   "cell_type": "markdown",
   "id": "caef2afa-d4ee-4976-a924-4c4361e4914e",
   "metadata": {},
   "source": [
    "### PyAstronomy Library \n",
    "PyAstronomy is a comprehensive Python library for astronomy-related calculations and data analysis. We will be using it to aid with the mathematics of the orbital visualization, so we don't have to do all the tedious mathematical work ourselves. You can install it by running:\n",
    "\n",
    "```\n",
    "pip install PyAstronomy\n",
    "```"
   ]
  },
  {
   "cell_type": "code",
   "execution_count": 39,
   "id": "b5bb4133-ea62-44a8-ac11-3979c4af1667",
   "metadata": {},
   "outputs": [
    {
     "name": "stdout",
     "output_type": "stream",
     "text": [
      "6730796.526160354 5495.744836551647 0.0006703 247.4627 51.6416 130.536\n"
     ]
    }
   ],
   "source": [
    "import numpy as np\n",
    "from PyAstronomy import pyasl\n",
    "import matplotlib.pyplot as plt\n",
    "import matplotlib.animation as animation\n",
    "\n",
    "print(semimajor_axis, period, data[\"eccentricity\"], data[\"raan\"], data[\"inclination\"], data[\"argument_of_perigee\"])"
   ]
  },
  {
   "cell_type": "code",
   "execution_count": 42,
   "id": "490919ab-879d-4dc2-afcd-ebd97093e9be",
   "metadata": {},
   "outputs": [],
   "source": [
    "orbit = pyasl.KeplerEllipse(a=semimajor_axis, per=period, e=data[\"eccentricity\"], Omega=data[\"raan\"], i=data[\"inclination\"], w=data[\"argument_of_perigee\"])\n",
    "t = np.linspace(0, period, 200)\n",
    "positions = orbit.xyzPos(t)"
   ]
  },
  {
   "cell_type": "markdown",
   "id": "61a3fb87-fcdb-4498-83da-0dd7c12fdc9a",
   "metadata": {},
   "source": [
    "The lines of code above calculate the position of the orbiting object (such as a satellite) at the specified times given by the array `t`"
   ]
  },
  {
   "cell_type": "code",
   "execution_count": 43,
   "id": "27b87125-51b6-4cee-8cfd-25bfab9b69ac",
   "metadata": {},
   "outputs": [
    {
     "data": {
      "image/png": "[encoded data removed]",
      "text/plain": [
       "<Figure size 640x480 with 1 Axes>"
      ]
     },
     "metadata": {},
     "output_type": "display_data"
    }
   ],
   "source": [
    "plt.style.use('dark_background')\n",
    "plt.plot(0, 0, 'bo', markersize=11, label=\"Earth\")\n",
    "plt.plot(positions[::, 1], positions[::, 0], 'w-', label=\"ISS Path Trajectory\")\n",
    "plt.legend(loc=\"lower right\")\n",
    "plt.title(f'Orbital Visualization of {data[\"name\"]}')\n",
    "plt.show()"
   ]
  }
 ],
 "metadata": {
  "kernelspec": {
   "display_name": "Python 3 (ipykernel)",
   "language": "python",
   "name": "python3"
  },
  "language_info": {
   "codemirror_mode": {
    "name": "ipython",
    "version": 3
   },
   "file_extension": ".py",
   "mimetype": "text/x-python",
   "name": "python",
   "nbconvert_exporter": "python",
   "pygments_lexer": "ipython3",
   "version": "3.11.7"
  }
 },
 "nbformat": 4,
 "nbformat_minor": 5
}
